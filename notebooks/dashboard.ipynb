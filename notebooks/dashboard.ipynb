{
 "cells": [
  {
   "cell_type": "code",
   "execution_count": 1,
   "metadata": {},
   "outputs": [],
   "source": [
    "import logging\n",
    "\n",
    "logging.basicConfig(format=\"%(asctime)s [%(levelname)8s]: %(message)s [%(name)s]\",\n",
    "                    handlers=[logging.StreamHandler()],\n",
    "                    level=logging.INFO)\n",
    "logger = logging.getLogger(__name__)"
   ]
  },
  {
   "cell_type": "code",
   "execution_count": 2,
   "metadata": {
    "pycharm": {
     "name": "#%%\n"
    }
   },
   "outputs": [
    {
     "name": "stderr",
     "output_type": "stream",
     "text": [
      "2021-03-28 23:39:45,428 [    INFO]: Note: NumExpr detected 12 cores but \"NUMEXPR_MAX_THREADS\" not set, so enforcing safe limit of 8. [numexpr.utils]\n",
      "2021-03-28 23:39:45,429 [    INFO]: NumExpr defaulting to 8 threads. [numexpr.utils]\n",
      "2021-03-28 23:39:46,532 [    INFO]: Ingesting 2018 data, 1129 records [adjuftments_v2.plotting]\n",
      "2021-03-28 23:39:47,518 [    INFO]: Ingesting 2019 data, 1065 records [adjuftments_v2.plotting]\n",
      "2021-03-28 23:39:48,510 [    INFO]: Ingesting 2020 data, 947 records [adjuftments_v2.plotting]\n",
      "2021-03-28 23:39:49,164 [    INFO]: Ingesting 2021 data, 234 records [adjuftments_v2.plotting]\n",
      "2021-03-28 23:39:53,468 [    INFO]: Temporary Image Created: https://i.imgur.com/reNNMPi.png [adjuftments_v2.plotting]\n",
      "2021-03-28 23:40:08,414 [    INFO]: Temporary Image Created: https://i.imgur.com/witeeEq.png [adjuftments_v2.plotting]\n"
     ]
    }
   ],
   "source": [
    "from adjuftments_v2.plotting import AdjuftmentsPlotting\n",
    "\n",
    "plotter = AdjuftmentsPlotting()\n",
    "plotter.refresh_images()"
   ]
  },
  {
   "cell_type": "code",
   "execution_count": null,
   "metadata": {
    "pycharm": {
     "name": "#%%\n"
    }
   },
   "outputs": [],
   "source": []
  }
 ],
 "metadata": {
  "kernelspec": {
   "display_name": "Python 3",
   "language": "python",
   "name": "python3"
  },
  "language_info": {
   "codemirror_mode": {
    "name": "ipython",
    "version": 3
   },
   "file_extension": ".py",
   "mimetype": "text/x-python",
   "name": "python",
   "nbconvert_exporter": "python",
   "pygments_lexer": "ipython3",
   "version": "3.8.7"
  }
 },
 "nbformat": 4,
 "nbformat_minor": 1
}
